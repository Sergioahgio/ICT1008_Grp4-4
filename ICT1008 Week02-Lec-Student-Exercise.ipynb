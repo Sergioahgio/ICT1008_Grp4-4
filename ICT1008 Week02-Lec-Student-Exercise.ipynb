{
 "cells": [
  {
   "cell_type": "markdown",
   "metadata": {},
   "source": [
    "## Lecture 02 Examples"
   ]
  },
  {
   "cell_type": "markdown",
   "metadata": {},
   "source": [
    "### Example 1: Basic ADTs"
   ]
  },
  {
   "cell_type": "markdown",
   "metadata": {},
   "source": [
    "#### Simple Counter"
   ]
  },
  {
   "cell_type": "code",
   "execution_count": null,
   "metadata": {},
   "outputs": [],
   "source": [
    "class Counter:\n",
    "    # define a counter variable\n",
    "    \n",
    "    # define an init function which initiates the value of the counter to a certain value\n",
    "    \n",
    "    # define a function which increments the counter by just one"
   ]
  },
  {
   "cell_type": "code",
   "execution_count": null,
   "metadata": {},
   "outputs": [],
   "source": [
    "temp = Counter(4)"
   ]
  },
  {
   "cell_type": "code",
   "execution_count": null,
   "metadata": {},
   "outputs": [],
   "source": [
    "temp.increment_by_one()"
   ]
  },
  {
   "cell_type": "code",
   "execution_count": null,
   "metadata": {},
   "outputs": [],
   "source": [
    "temp.counter"
   ]
  },
  {
   "cell_type": "markdown",
   "metadata": {},
   "source": [
    "#### Simple Array"
   ]
  },
  {
   "cell_type": "code",
   "execution_count": null,
   "metadata": {},
   "outputs": [],
   "source": [
    "numbers = [12, 23, 4, 0]"
   ]
  },
  {
   "cell_type": "code",
   "execution_count": null,
   "metadata": {},
   "outputs": [],
   "source": [
    "numbers[0]"
   ]
  },
  {
   "cell_type": "code",
   "execution_count": null,
   "metadata": {},
   "outputs": [],
   "source": [
    "numbers[1:3]"
   ]
  },
  {
   "cell_type": "markdown",
   "metadata": {},
   "source": [
    "#### Simple Array with For Loop"
   ]
  },
  {
   "cell_type": "code",
   "execution_count": null,
   "metadata": {},
   "outputs": [],
   "source": [
    "import random\n",
    "SIZE = 10\n",
    "\n",
    "# define an array of SIZE\n",
    "\n",
    "random.seed(55)\n",
    "\n",
    "# create a for loop that sets each cell of the array to a random value\n",
    "\n",
    "\n",
    "print(numbers)\n",
    "len(numbers)"
   ]
  },
  {
   "cell_type": "markdown",
   "metadata": {},
   "source": [
    "#### Simple Array with numpy"
   ]
  },
  {
   "cell_type": "code",
   "execution_count": null,
   "metadata": {},
   "outputs": [],
   "source": [
    "import numpy as np\n",
    "from numpy import array\n",
    "\n",
    "np.random.seed(55)\n",
    "\n",
    "SIZE = 10\n",
    "\n",
    "#use numpy to create a matrix of size 10, 1\n"
   ]
  },
  {
   "cell_type": "code",
   "execution_count": null,
   "metadata": {},
   "outputs": [],
   "source": [
    "print(matrix)\n",
    "\n",
    "matrix.shape"
   ]
  },
  {
   "cell_type": "code",
   "execution_count": null,
   "metadata": {},
   "outputs": [],
   "source": [
    "# do not use these... they are considered a one rank matrix\n",
    "np.random.seed(55)\n",
    "\n",
    "matrix =np.random.rand(SIZE)\n",
    "print(matrix)\n",
    "print(matrix.shape)\n",
    "\n",
    "matrix =np.random.rand(SIZE,)\n",
    "print(matrix)\n",
    "print(matrix.shape)"
   ]
  },
  {
   "cell_type": "markdown",
   "metadata": {},
   "source": [
    "#### Multiple Array with For Loop"
   ]
  },
  {
   "cell_type": "code",
   "execution_count": null,
   "metadata": {},
   "outputs": [],
   "source": [
    "import random\n",
    "\n",
    "X_SIZE = 3\n",
    "Y_SIZE = 4\n",
    "\n",
    "random.seed(55)\n",
    "\n",
    "# create a 2D array\n",
    "matrix = [[0 for x in range(Y_SIZE)] for x in range(X_SIZE)]\n",
    "\n",
    "# create a for loop that sets each cell of the 2D array to a random value\n",
    "\n",
    "print(matrix[0][0])"
   ]
  },
  {
   "cell_type": "code",
   "execution_count": null,
   "metadata": {},
   "outputs": [],
   "source": [
    "import numpy as np\n",
    "\n",
    "np.random.seed(55)\n",
    "\n",
    "#use numpy to create a matrix of size X_SIZE, Y_SIZE\n",
    "\n",
    "print(matrix)"
   ]
  },
  {
   "cell_type": "code",
   "execution_count": null,
   "metadata": {},
   "outputs": [],
   "source": [
    "np.random.seed(55)\n",
    "\n",
    "matrix = np.random.uniform(low=100, high=1000, size=(X_SIZE,Y_SIZE))\n",
    "print(matrix)"
   ]
  },
  {
   "cell_type": "code",
   "execution_count": null,
   "metadata": {},
   "outputs": [],
   "source": [
    "matrix[0][0]"
   ]
  },
  {
   "cell_type": "markdown",
   "metadata": {},
   "source": [
    "### Example 2: SimpleStack"
   ]
  },
  {
   "cell_type": "code",
   "execution_count": null,
   "metadata": {},
   "outputs": [],
   "source": [
    "# create a simple stack class\n",
    "\n",
    "class SimpleStack:\n",
    "    \n",
    "    # initiates the class with the top counter of the data and the data\n",
    "    def __init__(self):\n",
    "    \n",
    "    # increment the top counter of the data by one and append the new value to the array\n",
    "    def push(self, value):\n",
    "        \n",
    "    #  remove the top value to the array and decrement the top counter of the data by one\n",
    "    def pop(self):\n",
    "\n",
    "    #  check if the array is empty by using the counter\n",
    "    def is_empty(self):\n",
    "\n",
    "    #  return the value of the top of the stack (without removing it)\n",
    "    def peek(self):\n"
   ]
  },
  {
   "cell_type": "code",
   "execution_count": null,
   "metadata": {},
   "outputs": [],
   "source": [
    "temp_stack = SimpleStack()"
   ]
  },
  {
   "cell_type": "code",
   "execution_count": null,
   "metadata": {},
   "outputs": [],
   "source": [
    "temp_stack.pop()"
   ]
  },
  {
   "cell_type": "code",
   "execution_count": null,
   "metadata": {},
   "outputs": [],
   "source": [
    "temp_stack.is_empty()"
   ]
  },
  {
   "cell_type": "code",
   "execution_count": null,
   "metadata": {},
   "outputs": [],
   "source": [
    "temp_stack.push(4)"
   ]
  },
  {
   "cell_type": "code",
   "execution_count": null,
   "metadata": {},
   "outputs": [],
   "source": [
    "temp_stack.push(10)\n",
    "temp_stack.push(100)\n",
    "temp_stack.pop()\n",
    "temp_stack.push(99)"
   ]
  },
  {
   "cell_type": "code",
   "execution_count": null,
   "metadata": {},
   "outputs": [],
   "source": [
    "temp_stack.peek()"
   ]
  },
  {
   "cell_type": "markdown",
   "metadata": {},
   "source": [
    "### Example 3: SimpleQueue"
   ]
  },
  {
   "cell_type": "code",
   "execution_count": null,
   "metadata": {},
   "outputs": [],
   "source": [
    "class SimpleQueue:\n",
    "    \n",
    "    # initiates the class with the top counter of the data and the data\n",
    "    def __init__(self):\n",
    "    \n",
    "    # increment the top counter of the data by one and append the new value to the array\n",
    "    def enqueue(self, value):\n",
    "        \n",
    "    #  remove the first value to the array and decrement the top counter of the data by one\n",
    "    def dequeue(self):\n",
    "\n",
    "    #  check if the array is empty by using the counter\n",
    "    def is_empty(self):\n",
    "\n",
    "    #  return the value of the first of the queue (without removing it)\n",
    "    def peek(self):\n"
   ]
  },
  {
   "cell_type": "code",
   "execution_count": null,
   "metadata": {},
   "outputs": [],
   "source": [
    "temp_queue = SimpleQueue()"
   ]
  },
  {
   "cell_type": "code",
   "execution_count": null,
   "metadata": {},
   "outputs": [],
   "source": [
    "temp_queue.enqueue(4)\n",
    "temp_queue.enqueue(10)\n",
    "temp_queue.enqueue(100)\n",
    "temp_queue.dequeue()\n",
    "temp_queue.enqueue(99)"
   ]
  },
  {
   "cell_type": "code",
   "execution_count": null,
   "metadata": {},
   "outputs": [],
   "source": [
    "temp_queue.dequeue()"
   ]
  },
  {
   "cell_type": "markdown",
   "metadata": {},
   "source": [
    "### Example 4: Singly Linked List"
   ]
  },
  {
   "cell_type": "code",
   "execution_count": null,
   "metadata": {},
   "outputs": [],
   "source": [
    "# define the node of the singly linked list. It must have a data and a next node.\n",
    "class SinglyListNode:\n",
    "    def __init__(self, data):\n"
   ]
  },
  {
   "cell_type": "code",
   "execution_count": null,
   "metadata": {},
   "outputs": [],
   "source": [
    "class SinglyLinkedList:\n",
    "    \n",
    "    # inits the head and the next node\n",
    "    def __init__(self, data):\n",
    "\n",
    "    # inserts the node at the head\n",
    "    def insert_at_head(self, node):\n",
    "\n",
    "    # deletes the node at the head\n",
    "    def delete_at_head(self):\n",
    "        \n",
    "\n",
    "    def search(self, value):\n",
    "    \n",
    "    # deletes the first node with the data of value\n",
    "    def delete(self, value):\n",
    "    \n",
    "    #  prints the list\n",
    "    def print_list(self):"
   ]
  },
  {
   "cell_type": "code",
   "execution_count": null,
   "metadata": {},
   "outputs": [],
   "source": [
    "temp_node1 = SinglyListNode(1)"
   ]
  },
  {
   "cell_type": "code",
   "execution_count": null,
   "metadata": {},
   "outputs": [],
   "source": [
    "temp_node2 = SinglyListNode(2)\n",
    "temp_node3 = SinglyListNode(3)\n",
    "temp_node4 = SinglyListNode(4)\n",
    "temp_node5 = SinglyListNode(5)"
   ]
  },
  {
   "cell_type": "code",
   "execution_count": null,
   "metadata": {},
   "outputs": [],
   "source": [
    "temp_list = SinglyLinkedList(temp_node1)"
   ]
  },
  {
   "cell_type": "code",
   "execution_count": null,
   "metadata": {},
   "outputs": [],
   "source": [
    "temp_list.insert_at_head(temp_node2)"
   ]
  },
  {
   "cell_type": "code",
   "execution_count": null,
   "metadata": {},
   "outputs": [],
   "source": [
    "temp_list.insert_at_head(temp_node3)"
   ]
  },
  {
   "cell_type": "code",
   "execution_count": null,
   "metadata": {},
   "outputs": [],
   "source": [
    "temp_list.print_list()"
   ]
  },
  {
   "cell_type": "code",
   "execution_count": null,
   "metadata": {},
   "outputs": [],
   "source": [
    "temp_list.delete(1)"
   ]
  },
  {
   "cell_type": "code",
   "execution_count": null,
   "metadata": {},
   "outputs": [],
   "source": [
    "temp_node = temp_list.search(2)"
   ]
  },
  {
   "cell_type": "code",
   "execution_count": null,
   "metadata": {},
   "outputs": [],
   "source": [
    "temp_node.data"
   ]
  },
  {
   "cell_type": "markdown",
   "metadata": {},
   "source": [
    "### Example 5: Doubly Linked List"
   ]
  },
  {
   "cell_type": "code",
   "execution_count": null,
   "metadata": {},
   "outputs": [],
   "source": [
    "# define the node of the doubly linked list. It must have a data, a prev and a next node.\n",
    "\n",
    "class DoublyListNode:\n",
    "    def __init__(self, data):"
   ]
  },
  {
   "cell_type": "code",
   "execution_count": null,
   "metadata": {},
   "outputs": [],
   "source": [
    "class DoublyLinkedList:\n",
    "    \n",
    "    # inits the head and the tail node\n",
    "    def __init__(self):\n",
    "\n",
    "    def insert_at_head(self, node):\n",
    "            \n",
    "    #  prints the list\n",
    "    def print_list(self):\n",
    "            \n",
    "    #  prints the reverse list\n",
    "    def print_reverse_list(self):\n"
   ]
  },
  {
   "cell_type": "code",
   "execution_count": null,
   "metadata": {},
   "outputs": [],
   "source": [
    "temp_node1 = DoublyListNode(1)\n",
    "temp_node2 = DoublyListNode(2)\n",
    "temp_node3 = DoublyListNode(3)\n",
    "temp_node4 = DoublyListNode(4)\n",
    "temp_node5 = DoublyListNode(5)"
   ]
  },
  {
   "cell_type": "code",
   "execution_count": null,
   "metadata": {},
   "outputs": [],
   "source": [
    "temp_list = DoublyLinkedList()"
   ]
  },
  {
   "cell_type": "code",
   "execution_count": null,
   "metadata": {},
   "outputs": [],
   "source": [
    "temp_list.insert_at_head(temp_node5)"
   ]
  },
  {
   "cell_type": "code",
   "execution_count": null,
   "metadata": {},
   "outputs": [],
   "source": [
    "temp_list.insert_at_head(temp_node4)"
   ]
  },
  {
   "cell_type": "code",
   "execution_count": null,
   "metadata": {},
   "outputs": [],
   "source": [
    "temp_list.print_list()"
   ]
  },
  {
   "cell_type": "code",
   "execution_count": null,
   "metadata": {},
   "outputs": [],
   "source": [
    "temp_list.print_reverse_list()"
   ]
  }
 ],
 "metadata": {
  "kernelspec": {
   "display_name": "Python 3",
   "language": "python",
   "name": "python3"
  },
  "language_info": {
   "codemirror_mode": {
    "name": "ipython",
    "version": 3
   },
   "file_extension": ".py",
   "mimetype": "text/x-python",
   "name": "python",
   "nbconvert_exporter": "python",
   "pygments_lexer": "ipython3",
   "version": "3.7.3"
  }
 },
 "nbformat": 4,
 "nbformat_minor": 2
}

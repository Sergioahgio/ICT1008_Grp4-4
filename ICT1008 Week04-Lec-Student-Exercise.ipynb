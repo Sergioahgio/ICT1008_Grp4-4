{
 "cells": [
  {
   "cell_type": "markdown",
   "metadata": {},
   "source": [
    "## Lecture 04 Examples"
   ]
  },
  {
   "cell_type": "markdown",
   "metadata": {},
   "source": [
    "### 4.1 Factorial & Fibonacci Numbers"
   ]
  },
  {
   "cell_type": "code",
   "execution_count": 47,
   "metadata": {},
   "outputs": [],
   "source": [
    "def factorial(n):\n",
    "    # base case / initial condition\n",
    "    if n == 0:\n",
    "        answer = 1\n",
    "        # recurrence relation\n",
    "    else:\n",
    "        answer = n * factorial(n-1)\n",
    "    \n",
    "    return answer"
   ]
  },
  {
   "cell_type": "code",
   "execution_count": 48,
   "metadata": {},
   "outputs": [
    {
     "data": {
      "text/plain": [
       "120"
      ]
     },
     "execution_count": 48,
     "metadata": {},
     "output_type": "execute_result"
    }
   ],
   "source": [
    "factorial(5)"
   ]
  },
  {
   "cell_type": "code",
   "execution_count": 49,
   "metadata": {},
   "outputs": [],
   "source": [
    "def fib(n):\n",
    "    if n == 0:\n",
    "        return 0\n",
    "    elif n == 1:\n",
    "        return 1\n",
    "    else:\n",
    "        return fib(n-2)+fib(n-1)\n"
   ]
  },
  {
   "cell_type": "code",
   "execution_count": 50,
   "metadata": {},
   "outputs": [
    {
     "data": {
      "text/plain": [
       "610"
      ]
     },
     "execution_count": 50,
     "metadata": {},
     "output_type": "execute_result"
    }
   ],
   "source": [
    "fib(15)"
   ]
  },
  {
   "cell_type": "code",
   "execution_count": 51,
   "metadata": {},
   "outputs": [],
   "source": [
    "def factorial_iterative(n):\n",
    "    \n",
    "    answer = 1;\n",
    "    \n",
    "    for i in range (1,n+1):\n",
    "        if n == 0 : return 1\n",
    "        answer = answer * i\n",
    "    \n",
    "    return answer\n"
   ]
  },
  {
   "cell_type": "code",
   "execution_count": 52,
   "metadata": {},
   "outputs": [
    {
     "data": {
      "text/plain": [
       "120"
      ]
     },
     "execution_count": 52,
     "metadata": {},
     "output_type": "execute_result"
    }
   ],
   "source": [
    "factorial_iterative(5)"
   ]
  },
  {
   "cell_type": "code",
   "execution_count": 6,
   "metadata": {},
   "outputs": [],
   "source": [
    "def fib_iterative(n):\n",
    "    fib_0 = 0\n",
    "    fib_1 = 1\n",
    "    fib_n = 0\n",
    "    \n",
    "    for i in range(2,n+1):\n",
    "        fib_n = fib_1 + fib_0\n",
    "        fib_0 = fib_1\n",
    "        fib_1 = fib_n\n",
    "        \n",
    "    return fib_n\n"
   ]
  },
  {
   "cell_type": "code",
   "execution_count": 7,
   "metadata": {},
   "outputs": [
    {
     "data": {
      "text/plain": [
       "610"
      ]
     },
     "execution_count": 7,
     "metadata": {},
     "output_type": "execute_result"
    }
   ],
   "source": [
    "fib_iterative(15)"
   ]
  },
  {
   "cell_type": "code",
   "execution_count": 2,
   "metadata": {},
   "outputs": [
    {
     "name": "stdout",
     "output_type": "stream",
     "text": [
      "Collecting ttictoc\n",
      "  Downloading https://files.pythonhosted.org/packages/cd/55/b40934afe43119c3c6cd08281885c6835ca610735a64ce51f79ae2ba47aa/ttictoc-0.4.1-py3-none-any.whl\n",
      "Installing collected packages: ttictoc\n",
      "Successfully installed ttictoc-0.4.1\n"
     ]
    }
   ],
   "source": [
    "#!pip install ttictoc"
   ]
  },
  {
   "cell_type": "code",
   "execution_count": null,
   "metadata": {},
   "outputs": [],
   "source": [
    "from ttictoc import TicToc\n",
    "\n",
    "t = TicToc() ## TicToc(\"name\")\n",
    "t.tic()\n",
    "fib_iterative(1500000)\n",
    "t.toc()\n",
    "print(t.elapsed)"
   ]
  },
  {
   "cell_type": "code",
   "execution_count": 57,
   "metadata": {},
   "outputs": [
    {
     "name": "stdout",
     "output_type": "stream",
     "text": [
      "0 0.0\n",
      "1 0.0\n",
      "2 0.0\n",
      "3 0.0\n",
      "4 0.0\n",
      "5 0.0\n",
      "6 0.0\n",
      "7 0.0\n",
      "8 0.0\n",
      "9 0.0\n",
      "10 0.0\n",
      "11 0.0\n",
      "12 0.0\n",
      "13 0.0\n",
      "14 0.0\n",
      "15 0.0\n",
      "16 0.0\n",
      "17 0.0\n",
      "18 0.0\n",
      "19 0.0\n",
      "20 0.0\n",
      "21 0.0\n",
      "22 0.0\n",
      "23 0.0\n",
      "24 0.0\n",
      "25 0.0\n",
      "26 0.0\n",
      "27 0.0\n",
      "28 0.0\n",
      "29 0.0\n",
      "30 0.0\n",
      "31 0.0\n",
      "32 0.0\n",
      "33 0.0\n",
      "34 0.0\n",
      "35 0.0\n",
      "36 0.0\n",
      "37 0.0\n",
      "38 0.0\n",
      "39 0.0\n",
      "40 0.0\n",
      "41 0.0\n",
      "42 0.0\n",
      "43 0.0\n",
      "44 0.0\n"
     ]
    }
   ],
   "source": [
    "from ttictoc import TicToc\n",
    "\n",
    "max_length=45\n",
    "fib_itr_time = []\n",
    "\n",
    "for i in range (0, max_length):\n",
    "    t = TicToc() ## TicToc(\"name\")\n",
    "    t.tic()\n",
    "    fib_iterative(i)\n",
    "    t.toc()    \n",
    "    print(i, t.elapsed)\n",
    "    fib_itr_time.append(t.elapsed)"
   ]
  },
  {
   "cell_type": "code",
   "execution_count": 58,
   "metadata": {},
   "outputs": [
    {
     "name": "stdout",
     "output_type": "stream",
     "text": [
      "0 0.0\n",
      "1 0.0\n",
      "2 0.0\n",
      "3 0.0\n",
      "4 0.0\n",
      "5 0.0\n",
      "6 0.0\n",
      "7 0.0\n",
      "8 0.0009970664978027344\n",
      "9 0.0\n",
      "10 0.0\n",
      "11 0.0\n",
      "12 0.0\n",
      "13 0.0\n",
      "14 0.0\n",
      "15 0.0009996891021728516\n",
      "16 0.0\n",
      "17 0.0010416507720947266\n",
      "18 0.0009546279907226562\n",
      "19 0.0010006427764892578\n",
      "20 0.002997159957885742\n",
      "21 0.0040018558502197266\n",
      "22 0.008037090301513672\n",
      "23 0.012006282806396484\n",
      "24 0.01795506477355957\n",
      "25 0.030004501342773438\n",
      "26 0.04800128936767578\n",
      "27 0.0859980583190918\n",
      "28 0.12599635124206543\n",
      "29 0.2400035858154297\n",
      "30 0.36699843406677246\n",
      "31 0.5600662231445312\n",
      "32 0.8800003528594971\n",
      "33 1.4469761848449707\n",
      "34 2.2729978561401367\n",
      "35 3.765066623687744\n",
      "36 5.952008247375488\n",
      "37 9.420958757400513\n",
      "38 15.341037273406982\n",
      "39 24.736992359161377\n",
      "40 39.64393210411072\n",
      "41 64.8930492401123\n",
      "42 106.08903408050537\n",
      "43 170.63996839523315\n",
      "44 283.8810636997223\n"
     ]
    }
   ],
   "source": [
    "from ttictoc import TicToc\n",
    "\n",
    "fib_time = []\n",
    "\n",
    "for i in range(0, max_length):\n",
    "    t = TicToc() ## TicToc(\"name\")\n",
    "    t.tic()\n",
    "    fib(i)\n",
    "    t.toc()\n",
    "    print(i, t.elapsed)\n",
    "    fib_time.append(t.elapsed)\n"
   ]
  },
  {
   "cell_type": "code",
   "execution_count": 9,
   "metadata": {},
   "outputs": [],
   "source": [
    "import math\n",
    "import matplotlib.pyplot as plt\n",
    "\n",
    "def plot_graph(g1, g2, max_length):\n",
    "    t = range(0, max_length, 1)\n",
    "    plt.plot(t, g1, 'b') # plotting t, b separately \n",
    "    plt.plot(t, g2, 'g') # plotting t, c separately \n",
    "    plt.show()"
   ]
  },
  {
   "cell_type": "code",
   "execution_count": 59,
   "metadata": {},
   "outputs": [
    {
     "data": {
      "image/png": "[encoded data removed]",
      "text/plain": [
       "<Figure size 432x288 with 1 Axes>"
      ]
     },
     "metadata": {
      "needs_background": "light"
     },
     "output_type": "display_data"
    }
   ],
   "source": [
    "plot_graph(fib_itr_time, fib_time, max_length)"
   ]
  },
  {
   "cell_type": "markdown",
   "metadata": {},
   "source": [
    "### 4.2 Binary Search"
   ]
  },
  {
   "cell_type": "code",
   "execution_count": 43,
   "metadata": {},
   "outputs": [],
   "source": [
    "def search(a, lo, hi, key):\n"
   ]
  },
  {
   "cell_type": "code",
   "execution_count": 45,
   "metadata": {},
   "outputs": [
    {
     "data": {
      "text/plain": [
       "-1"
      ]
     },
     "execution_count": 45,
     "metadata": {},
     "output_type": "execute_result"
    }
   ],
   "source": [
    "search([5,6,7,8,9,10], 0, 6, 3)"
   ]
  },
  {
   "cell_type": "markdown",
   "metadata": {},
   "source": [
    "### 4.3 Exponentiation"
   ]
  },
  {
   "cell_type": "code",
   "execution_count": 1,
   "metadata": {},
   "outputs": [],
   "source": [
    "def power(a, n):\n"
   ]
  },
  {
   "cell_type": "code",
   "execution_count": 2,
   "metadata": {},
   "outputs": [],
   "source": [
    "def very_power(a,n):\n"
   ]
  },
  {
   "cell_type": "code",
   "execution_count": 3,
   "metadata": {},
   "outputs": [
    {
     "data": {
      "text/plain": [
       "65536"
      ]
     },
     "execution_count": 3,
     "metadata": {},
     "output_type": "execute_result"
    }
   ],
   "source": [
    "very_power(4,8)"
   ]
  },
  {
   "cell_type": "code",
   "execution_count": 4,
   "metadata": {},
   "outputs": [
    {
     "data": {
      "text/plain": [
       "65536"
      ]
     },
     "execution_count": 4,
     "metadata": {},
     "output_type": "execute_result"
    }
   ],
   "source": [
    "power(4,8)"
   ]
  },
  {
   "cell_type": "code",
   "execution_count": 5,
   "metadata": {},
   "outputs": [
    {
     "data": {
      "text/plain": [
       "65536"
      ]
     },
     "execution_count": 5,
     "metadata": {},
     "output_type": "execute_result"
    }
   ],
   "source": [
    "pow(4,8)"
   ]
  },
  {
   "cell_type": "code",
   "execution_count": 26,
   "metadata": {},
   "outputs": [],
   "source": [
    "from ttictoc import TicToc\n",
    "\n",
    "power_time = []\n",
    "max_length = 50000\n",
    "divisor = 5\n",
    "\n",
    "for i in range(0, max_length, divisor):\n",
    "    t = TicToc() ## TicToc(\"name\")\n",
    "    t.tic()\n",
    "    power(4,i)\n",
    "    t.toc()\n",
    "    power_time.append(t.elapsed)"
   ]
  },
  {
   "cell_type": "code",
   "execution_count": 27,
   "metadata": {},
   "outputs": [],
   "source": [
    "from ttictoc import TicToc\n",
    "\n",
    "very_power_time = []\n",
    "\n",
    "for i in range(0, max_length, divisor):\n",
    "    t = TicToc() ## TicToc(\"name\")\n",
    "    t.tic()\n",
    "    very_power(4,i)\n",
    "    t.toc()\n",
    "    very_power_time.append(t.elapsed)"
   ]
  },
  {
   "cell_type": "code",
   "execution_count": 46,
   "metadata": {},
   "outputs": [
    {
     "data": {
      "image/png": "[encoded data removed]",
      "text/plain": [
       "<Figure size 432x288 with 1 Axes>"
      ]
     },
     "metadata": {
      "needs_background": "light"
     },
     "output_type": "display_data"
    }
   ],
   "source": [
    "plot_graph(power_time, very_power_time, (int) (max_length / divisor))"
   ]
  },
  {
   "cell_type": "code",
   "execution_count": null,
   "metadata": {},
   "outputs": [],
   "source": []
  }
 ],
 "metadata": {
  "kernelspec": {
   "display_name": "Python 3",
   "language": "python",
   "name": "python3"
  },
  "language_info": {
   "codemirror_mode": {
    "name": "ipython",
    "version": 3
   },
   "file_extension": ".py",
   "mimetype": "text/x-python",
   "name": "python",
   "nbconvert_exporter": "python",
   "pygments_lexer": "ipython3",
   "version": "3.6.7"
  }
 },
 "nbformat": 4,
 "nbformat_minor": 2
}

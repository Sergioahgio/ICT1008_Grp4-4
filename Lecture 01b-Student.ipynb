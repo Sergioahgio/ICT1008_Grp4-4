{
 "cells": [
  {
   "cell_type": "markdown",
   "metadata": {},
   "source": [
    "## Lecture 01b Examples"
   ]
  },
  {
   "cell_type": "markdown",
   "metadata": {},
   "source": [
    "### Example 1: Employee"
   ]
  },
  {
   "cell_type": "markdown",
   "metadata": {},
   "source": [
    "#### Class Documentation Example"
   ]
  },
  {
   "cell_type": "code",
   "execution_count": null,
   "metadata": {},
   "outputs": [],
   "source": [
    "class Employee:\n",
    "    'This comment is to show how the documentation comment can be seen'"
   ]
  },
  {
   "cell_type": "code",
   "execution_count": null,
   "metadata": {},
   "outputs": [],
   "source": [
    "Employee.__doc__"
   ]
  },
  {
   "cell_type": "markdown",
   "metadata": {},
   "source": [
    "#### Class Example: Employee Class"
   ]
  },
  {
   "cell_type": "code",
   "execution_count": null,
   "metadata": {},
   "outputs": [],
   "source": [
    "class Employee:\n",
    "    'The base class for all employees'\n",
    "    \n",
    "    employee_count = 0\n",
    "    \n",
    "    def __init__(self, name, salary):\n",
    "        ## todo. set the name and salary of the employee\n",
    "    \n",
    "    def display_count(self):\n",
    "        ## todo. display employee count\n",
    "        \n",
    "    def display_employee(self):\n",
    "        ## todo. display employee details        \n",
    "    \n",
    "    ## to go through during the destructor example below\n",
    "    def __del__(self):\n",
    "        ## todo. print out the name of the instance destroyed"
   ]
  },
  {
   "cell_type": "code",
   "execution_count": null,
   "metadata": {},
   "outputs": [],
   "source": [
    "employee1 = Employee(\"grasshopper\", \"4000\")\n",
    "employee2 = Employee(\"ant\", \"6000\")"
   ]
  },
  {
   "cell_type": "code",
   "execution_count": null,
   "metadata": {},
   "outputs": [],
   "source": [
    "employee1.display_count()"
   ]
  },
  {
   "cell_type": "code",
   "execution_count": null,
   "metadata": {},
   "outputs": [],
   "source": [
    "employee2.display_employee()"
   ]
  },
  {
   "cell_type": "code",
   "execution_count": null,
   "metadata": {},
   "outputs": [],
   "source": [
    "print(\"Number of employees we have now are: \", Employee.employee_count)"
   ]
  },
  {
   "cell_type": "markdown",
   "metadata": {},
   "source": [
    "#### Destructor Example"
   ]
  },
  {
   "cell_type": "code",
   "execution_count": null,
   "metadata": {},
   "outputs": [],
   "source": [
    "del employee1\n",
    "del employee2"
   ]
  },
  {
   "cell_type": "markdown",
   "metadata": {},
   "source": [
    "#### Class Example: Parent HR Class"
   ]
  },
  {
   "cell_type": "code",
   "execution_count": null,
   "metadata": {},
   "outputs": [],
   "source": [
    "class HumanResources:\n",
    "    def __init__(self):\n",
    "        print(\"Human Resources Constructor\")\n",
    "        \n",
    "    def test(self):\n",
    "        print(\"can this be called?\")"
   ]
  },
  {
   "cell_type": "code",
   "execution_count": null,
   "metadata": {},
   "outputs": [],
   "source": [
    "class Employee(HumanResources):\n",
    "    'The base class for all employees'\n",
    "    \n",
    "    employee_count = 0\n",
    "    \n",
    "    def __init__(self, name, salary):\n",
    "        ## todo. copy from above\n",
    "    \n",
    "    def display_count(self):\n",
    "        ## todo. copy from above\n",
    "        \n",
    "    def display_employee(self):\n",
    "        ## todo. copy from above\n",
    "    \n",
    "    def __del__(self):\n",
    "        ## todo. copy from above\n"
   ]
  },
  {
   "cell_type": "code",
   "execution_count": null,
   "metadata": {},
   "outputs": [],
   "source": [
    "employee1.test()"
   ]
  },
  {
   "cell_type": "markdown",
   "metadata": {},
   "source": [
    "### Example 2: ATM"
   ]
  },
  {
   "cell_type": "code",
   "execution_count": null,
   "metadata": {},
   "outputs": [],
   "source": [
    "import numpy as np\n",
    "\n",
    "class Account():\n",
    "    def __init__(self, name, acc_num, bal):\n",
    "        ## todo. initialize name, account number and balance\n",
    "    \n",
    "    def withdraw(self, amount):\n",
    "        ## todo. withdraw money\n",
    "\n",
    "    def deposit(self, amount):\n",
    "        ## todo. deposit money\n",
    "    \n",
    "    def print_account_info(self):\n",
    "        ## todo. print account information"
   ]
  },
  {
   "cell_type": "code",
   "execution_count": null,
   "metadata": {},
   "outputs": [],
   "source": [
    "employee_account1 = Account(\"john\", \"john001\", 100000)"
   ]
  },
  {
   "cell_type": "code",
   "execution_count": null,
   "metadata": {},
   "outputs": [],
   "source": [
    "employee_account1.print_account_info()"
   ]
  },
  {
   "cell_type": "code",
   "execution_count": null,
   "metadata": {},
   "outputs": [],
   "source": [
    "employee_account1.withdraw(5000000)"
   ]
  },
  {
   "cell_type": "code",
   "execution_count": null,
   "metadata": {},
   "outputs": [],
   "source": [
    "employee_account1.deposit(\"300\")"
   ]
  }
 ],
 "metadata": {
  "kernelspec": {
   "display_name": "Python 3",
   "language": "python",
   "name": "python3"
  },
  "language_info": {
   "codemirror_mode": {
    "name": "ipython",
    "version": 3
   },
   "file_extension": ".py",
   "mimetype": "text/x-python",
   "name": "python",
   "nbconvert_exporter": "python",
   "pygments_lexer": "ipython3",
   "version": "3.7.3"
  }
 },
 "nbformat": 4,
 "nbformat_minor": 2
}
